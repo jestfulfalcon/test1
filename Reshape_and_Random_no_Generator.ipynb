{
  "nbformat": 4,
  "nbformat_minor": 0,
  "metadata": {
    "colab": {
      "provenance": [],
      "authorship_tag": "ABX9TyPRjsAatJjSIlcL+FbLwtFd",
      "include_colab_link": true
    },
    "kernelspec": {
      "name": "python3",
      "display_name": "Python 3"
    },
    "language_info": {
      "name": "python"
    }
  },
  "cells": [
    {
      "cell_type": "markdown",
      "metadata": {
        "id": "view-in-github",
        "colab_type": "text"
      },
      "source": [
        "<a href=\"https://colab.research.google.com/github/jestfulfalcon/test1/blob/main/Reshape_and_Random_no_Generator.ipynb\" target=\"_parent\"><img src=\"https://colab.research.google.com/assets/colab-badge.svg\" alt=\"Open In Colab\"/></a>"
      ]
    },
    {
      "cell_type": "code",
      "execution_count": 1,
      "metadata": {
        "id": "BWfyVT7TZFIJ"
      },
      "outputs": [],
      "source": [
        "import numpy as np"
      ]
    },
    {
      "cell_type": "code",
      "source": [
        "np.random.random((3,3))"
      ],
      "metadata": {
        "colab": {
          "base_uri": "https://localhost:8080/"
        },
        "id": "4mGfeePxZPTZ",
        "outputId": "1e0a0b04-3c0a-4ae7-d5f2-2c8ea0fbfb15"
      },
      "execution_count": 2,
      "outputs": [
        {
          "output_type": "execute_result",
          "data": {
            "text/plain": [
              "array([[0.44017926, 0.79773062, 0.23770697],\n",
              "       [0.36026086, 0.58064577, 0.04034718],\n",
              "       [0.00428102, 0.01740741, 0.28507688]])"
            ]
          },
          "metadata": {},
          "execution_count": 2
        }
      ]
    },
    {
      "cell_type": "code",
      "source": [
        "np.random.random()"
      ],
      "metadata": {
        "colab": {
          "base_uri": "https://localhost:8080/"
        },
        "id": "Bl8gXndxZonA",
        "outputId": "f519eb33-c305-493b-dbe2-6a7a2eb6f0ab"
      },
      "execution_count": 3,
      "outputs": [
        {
          "output_type": "execute_result",
          "data": {
            "text/plain": [
              "0.5827895889397297"
            ]
          },
          "metadata": {},
          "execution_count": 3
        }
      ]
    },
    {
      "cell_type": "code",
      "source": [
        "if np.random.random() > 0.5:\n",
        "  print(\"Run function\")\n",
        "\n",
        "else:\n",
        "  print(\"Do not\")"
      ],
      "metadata": {
        "colab": {
          "base_uri": "https://localhost:8080/"
        },
        "id": "9u8BHdinZzsn",
        "outputId": "89a0e9d7-42c8-4028-ce9c-a285e8836ef3"
      },
      "execution_count": 6,
      "outputs": [
        {
          "output_type": "stream",
          "name": "stdout",
          "text": [
            "Do not\n"
          ]
        }
      ]
    },
    {
      "cell_type": "code",
      "source": [
        "np.arange(1,10,1) #if 10 it will generate till 9 only"
      ],
      "metadata": {
        "colab": {
          "base_uri": "https://localhost:8080/"
        },
        "id": "lgR5fAVNaGDa",
        "outputId": "470cdb10-a45b-4fad-beb7-84fb04e0a782"
      },
      "execution_count": 7,
      "outputs": [
        {
          "output_type": "execute_result",
          "data": {
            "text/plain": [
              "array([1, 2, 3, 4, 5, 6, 7, 8, 9])"
            ]
          },
          "metadata": {},
          "execution_count": 7
        }
      ]
    },
    {
      "cell_type": "code",
      "source": [
        "np.arange(1,10,3)"
      ],
      "metadata": {
        "colab": {
          "base_uri": "https://localhost:8080/"
        },
        "id": "yI3Tj0Z3aXue",
        "outputId": "68e26efb-0c4f-4afb-cedb-c5811c553a65"
      },
      "execution_count": 8,
      "outputs": [
        {
          "output_type": "execute_result",
          "data": {
            "text/plain": [
              "array([1, 4, 7])"
            ]
          },
          "metadata": {},
          "execution_count": 8
        }
      ]
    },
    {
      "cell_type": "code",
      "source": [
        "np.linspace(1,10,10) #how many values u want in between equisidtant"
      ],
      "metadata": {
        "colab": {
          "base_uri": "https://localhost:8080/"
        },
        "id": "hy70lnHSaj9E",
        "outputId": "81be17bb-5179-40ec-8c99-71f8d4af1925"
      },
      "execution_count": 9,
      "outputs": [
        {
          "output_type": "execute_result",
          "data": {
            "text/plain": [
              "array([ 1.,  2.,  3.,  4.,  5.,  6.,  7.,  8.,  9., 10.])"
            ]
          },
          "metadata": {},
          "execution_count": 9
        }
      ]
    },
    {
      "cell_type": "code",
      "source": [
        "np.linspace(1,7,10)"
      ],
      "metadata": {
        "colab": {
          "base_uri": "https://localhost:8080/"
        },
        "id": "eSuZud8uazG3",
        "outputId": "26d693b1-8ab4-4556-db94-20a85fcec3c1"
      },
      "execution_count": 10,
      "outputs": [
        {
          "output_type": "execute_result",
          "data": {
            "text/plain": [
              "array([1.        , 1.66666667, 2.33333333, 3.        , 3.66666667,\n",
              "       4.33333333, 5.        , 5.66666667, 6.33333333, 7.        ])"
            ]
          },
          "metadata": {},
          "execution_count": 10
        }
      ]
    },
    {
      "cell_type": "code",
      "source": [
        "arr=np.random.random((4,3))"
      ],
      "metadata": {
        "id": "6Tgpv5QCbSm2"
      },
      "execution_count": 12,
      "outputs": []
    },
    {
      "cell_type": "code",
      "source": [
        "arr"
      ],
      "metadata": {
        "colab": {
          "base_uri": "https://localhost:8080/"
        },
        "id": "AkcKomBFbkOc",
        "outputId": "05e21347-b007-43ae-996d-fde871c5839f"
      },
      "execution_count": 13,
      "outputs": [
        {
          "output_type": "execute_result",
          "data": {
            "text/plain": [
              "array([[0.82976298, 0.35295185, 0.11700027],\n",
              "       [0.01675916, 0.44016612, 0.26521589],\n",
              "       [0.28862889, 0.41378806, 0.40063502],\n",
              "       [0.27074661, 0.91503201, 0.87022543]])"
            ]
          },
          "metadata": {},
          "execution_count": 13
        }
      ]
    },
    {
      "cell_type": "code",
      "source": [
        "np.reshape(arr,(3,4))"
      ],
      "metadata": {
        "colab": {
          "base_uri": "https://localhost:8080/"
        },
        "id": "XeI5PlyVbnY2",
        "outputId": "8059a0ee-e9aa-4bfc-f49d-3d17993fe0d7"
      },
      "execution_count": 14,
      "outputs": [
        {
          "output_type": "execute_result",
          "data": {
            "text/plain": [
              "array([[0.82976298, 0.35295185, 0.11700027, 0.01675916],\n",
              "       [0.44016612, 0.26521589, 0.28862889, 0.41378806],\n",
              "       [0.40063502, 0.27074661, 0.91503201, 0.87022543]])"
            ]
          },
          "metadata": {},
          "execution_count": 14
        }
      ]
    },
    {
      "cell_type": "code",
      "source": [
        "np.reshape(arr,(6,2)) # u should not change the size of array or number of elements"
      ],
      "metadata": {
        "colab": {
          "base_uri": "https://localhost:8080/"
        },
        "id": "-ZUIK9J2buIc",
        "outputId": "a533810a-b977-4a2e-ae77-b5f1381e5b42"
      },
      "execution_count": 15,
      "outputs": [
        {
          "output_type": "execute_result",
          "data": {
            "text/plain": [
              "array([[0.82976298, 0.35295185],\n",
              "       [0.11700027, 0.01675916],\n",
              "       [0.44016612, 0.26521589],\n",
              "       [0.28862889, 0.41378806],\n",
              "       [0.40063502, 0.27074661],\n",
              "       [0.91503201, 0.87022543]])"
            ]
          },
          "metadata": {},
          "execution_count": 15
        }
      ]
    },
    {
      "cell_type": "code",
      "source": [
        "arr.flatten() # it changes to 1 dimension"
      ],
      "metadata": {
        "colab": {
          "base_uri": "https://localhost:8080/"
        },
        "id": "focolJoSb7Pb",
        "outputId": "f44838bb-150c-40b8-f73b-6daa5a9615cc"
      },
      "execution_count": 16,
      "outputs": [
        {
          "output_type": "execute_result",
          "data": {
            "text/plain": [
              "array([0.82976298, 0.35295185, 0.11700027, 0.01675916, 0.44016612,\n",
              "       0.26521589, 0.28862889, 0.41378806, 0.40063502, 0.27074661,\n",
              "       0.91503201, 0.87022543])"
            ]
          },
          "metadata": {},
          "execution_count": 16
        }
      ]
    },
    {
      "cell_type": "code",
      "source": [],
      "metadata": {
        "id": "DkTzrksmcFaN"
      },
      "execution_count": null,
      "outputs": []
    }
  ]
}