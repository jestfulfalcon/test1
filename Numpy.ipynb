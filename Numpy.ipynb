{
  "nbformat": 4,
  "nbformat_minor": 0,
  "metadata": {
    "colab": {
      "provenance": [],
      "authorship_tag": "ABX9TyPUolpLsBUd+u93qdsi1AQi",
      "include_colab_link": true
    },
    "kernelspec": {
      "name": "python3",
      "display_name": "Python 3"
    },
    "language_info": {
      "name": "python"
    }
  },
  "cells": [
    {
      "cell_type": "markdown",
      "metadata": {
        "id": "view-in-github",
        "colab_type": "text"
      },
      "source": [
        "<a href=\"https://colab.research.google.com/github/jestfulfalcon/test1/blob/main/Numpy.ipynb\" target=\"_parent\"><img src=\"https://colab.research.google.com/assets/colab-badge.svg\" alt=\"Open In Colab\"/></a>"
      ]
    },
    {
      "cell_type": "code",
      "execution_count": 7,
      "metadata": {
        "id": "f9ZrukVwSAq-"
      },
      "outputs": [],
      "source": [
        "import numpy as np"
      ]
    },
    {
      "cell_type": "code",
      "source": [
        "lst=[1,2,3,4,5]\n",
        "arr=np.array(lst , ndmin=2)"
      ],
      "metadata": {
        "id": "jMONdAMXSURo"
      },
      "execution_count": 8,
      "outputs": []
    },
    {
      "cell_type": "code",
      "source": [
        "arr"
      ],
      "metadata": {
        "colab": {
          "base_uri": "https://localhost:8080/"
        },
        "id": "G3_-AOt8TFlq",
        "outputId": "23f3f21e-d16a-420d-9094-c65a90e362e1"
      },
      "execution_count": 9,
      "outputs": [
        {
          "output_type": "execute_result",
          "data": {
            "text/plain": [
              "array([[1, 2, 3, 4, 5]])"
            ]
          },
          "metadata": {},
          "execution_count": 9
        }
      ]
    },
    {
      "cell_type": "code",
      "source": [
        "# Arrange Function\n"
      ],
      "metadata": {
        "id": "cidSRP-_TK0e"
      },
      "execution_count": 10,
      "outputs": []
    },
    {
      "cell_type": "code",
      "source": [
        "for i in range(1,10,2):\n",
        "  print(i)"
      ],
      "metadata": {
        "colab": {
          "base_uri": "https://localhost:8080/"
        },
        "id": "wsb6q6RITeqz",
        "outputId": "2e9d68c0-1966-4424-d582-e02321cebe0a"
      },
      "execution_count": 11,
      "outputs": [
        {
          "output_type": "stream",
          "name": "stdout",
          "text": [
            "1\n",
            "3\n",
            "5\n",
            "7\n",
            "9\n"
          ]
        }
      ]
    },
    {
      "cell_type": "code",
      "source": [
        "np.arange(1,10,2)"
      ],
      "metadata": {
        "colab": {
          "base_uri": "https://localhost:8080/"
        },
        "id": "Z1n-545vTl_s",
        "outputId": "3645707e-ee39-4eee-82be-b20da00d5d98"
      },
      "execution_count": 12,
      "outputs": [
        {
          "output_type": "execute_result",
          "data": {
            "text/plain": [
              "array([1, 3, 5, 7, 9])"
            ]
          },
          "metadata": {},
          "execution_count": 12
        }
      ]
    },
    {
      "cell_type": "code",
      "source": [
        "# Multi-dimensional array"
      ],
      "metadata": {
        "id": "Me7FABwlTw2I"
      },
      "execution_count": 13,
      "outputs": []
    },
    {
      "cell_type": "code",
      "source": [
        "arr=np.array([[1,2,3,4],[5,6,7,8], [8,7,6,5],[4,3,2,1]])"
      ],
      "metadata": {
        "id": "jHVaWzv0T5YB"
      },
      "execution_count": 14,
      "outputs": []
    },
    {
      "cell_type": "code",
      "source": [
        "arr"
      ],
      "metadata": {
        "colab": {
          "base_uri": "https://localhost:8080/"
        },
        "id": "jDGRr_5RUHEP",
        "outputId": "71c27e50-a0b8-49de-dd40-4c48155e38ef"
      },
      "execution_count": 15,
      "outputs": [
        {
          "output_type": "execute_result",
          "data": {
            "text/plain": [
              "array([[1, 2, 3, 4],\n",
              "       [5, 6, 7, 8],\n",
              "       [8, 7, 6, 5],\n",
              "       [4, 3, 2, 1]])"
            ]
          },
          "metadata": {},
          "execution_count": 15
        }
      ]
    },
    {
      "cell_type": "code",
      "source": [
        "# Size Function"
      ],
      "metadata": {
        "id": "FGdNZ_viUMzr"
      },
      "execution_count": 16,
      "outputs": []
    },
    {
      "cell_type": "code",
      "source": [
        "arr.size"
      ],
      "metadata": {
        "colab": {
          "base_uri": "https://localhost:8080/"
        },
        "id": "jDYBYLSTURzl",
        "outputId": "abd58276-e943-4850-eccc-2d5939c85321"
      },
      "execution_count": 17,
      "outputs": [
        {
          "output_type": "execute_result",
          "data": {
            "text/plain": [
              "16"
            ]
          },
          "metadata": {},
          "execution_count": 17
        }
      ]
    },
    {
      "cell_type": "code",
      "source": [
        "print('Total : ' ,  arr.size)\n",
        "print('Rows: ' ,  np.size(arr , 0))\n",
        "print('Cols : ' ,  np.size(arr, 1))\n",
        "\n"
      ],
      "metadata": {
        "colab": {
          "base_uri": "https://localhost:8080/"
        },
        "id": "40YTiLgvUUEL",
        "outputId": "78189f7e-df55-4dc5-f7f4-154b5a2a791f"
      },
      "execution_count": 18,
      "outputs": [
        {
          "output_type": "stream",
          "name": "stdout",
          "text": [
            "Total :  16\n",
            "Rows:  4\n",
            "Cols :  4\n"
          ]
        }
      ]
    },
    {
      "cell_type": "code",
      "source": [
        "# Shape function"
      ],
      "metadata": {
        "id": "zT3D_64AU1m1"
      },
      "execution_count": 19,
      "outputs": []
    },
    {
      "cell_type": "code",
      "source": [
        "arr.shape"
      ],
      "metadata": {
        "colab": {
          "base_uri": "https://localhost:8080/"
        },
        "id": "fuQZjgNjVElh",
        "outputId": "8a4d1bb3-742f-4cbf-cfe6-d2755f6857d2"
      },
      "execution_count": 20,
      "outputs": [
        {
          "output_type": "execute_result",
          "data": {
            "text/plain": [
              "(4, 4)"
            ]
          },
          "metadata": {},
          "execution_count": 20
        }
      ]
    },
    {
      "cell_type": "code",
      "source": [
        " # Dtype function\n"
      ],
      "metadata": {
        "id": "6klpd9_TVFc-"
      },
      "execution_count": 21,
      "outputs": []
    },
    {
      "cell_type": "code",
      "source": [
        "arr.dtype"
      ],
      "metadata": {
        "colab": {
          "base_uri": "https://localhost:8080/"
        },
        "id": "zf1iNjyAVLZ7",
        "outputId": "9d4e93e3-c319-4895-d273-aebed98db17c"
      },
      "execution_count": 22,
      "outputs": [
        {
          "output_type": "execute_result",
          "data": {
            "text/plain": [
              "dtype('int64')"
            ]
          },
          "metadata": {},
          "execution_count": 22
        }
      ]
    },
    {
      "cell_type": "code",
      "source": [
        "# Ndim function"
      ],
      "metadata": {
        "id": "rC7Aq_I9WQPx"
      },
      "execution_count": 23,
      "outputs": []
    },
    {
      "cell_type": "code",
      "source": [
        "print(arr.ndim)"
      ],
      "metadata": {
        "colab": {
          "base_uri": "https://localhost:8080/"
        },
        "id": "nGIVJpEvWsmt",
        "outputId": "731930d1-dc97-4578-ba63-ba91b9dc9f3b"
      },
      "execution_count": 24,
      "outputs": [
        {
          "output_type": "stream",
          "name": "stdout",
          "text": [
            "2\n"
          ]
        }
      ]
    },
    {
      "cell_type": "code",
      "source": [
        "# Zeros function"
      ],
      "metadata": {
        "id": "mhxVZz31Wz4T"
      },
      "execution_count": 25,
      "outputs": []
    },
    {
      "cell_type": "code",
      "source": [
        "np.zeros(shape=(3,5))"
      ],
      "metadata": {
        "colab": {
          "base_uri": "https://localhost:8080/"
        },
        "id": "_3KJOQypXOV5",
        "outputId": "1c7b0db0-9020-49c3-b023-a8d5b97c151f"
      },
      "execution_count": 26,
      "outputs": [
        {
          "output_type": "execute_result",
          "data": {
            "text/plain": [
              "array([[0., 0., 0., 0., 0.],\n",
              "       [0., 0., 0., 0., 0.],\n",
              "       [0., 0., 0., 0., 0.]])"
            ]
          },
          "metadata": {},
          "execution_count": 26
        }
      ]
    },
    {
      "cell_type": "code",
      "source": [
        "np.zeros(shape=(4,4) , dtype=int)"
      ],
      "metadata": {
        "colab": {
          "base_uri": "https://localhost:8080/"
        },
        "id": "ledRGRLqXU4Y",
        "outputId": "a2cc4830-ccfd-4df8-f0cd-1f9575459f53"
      },
      "execution_count": 27,
      "outputs": [
        {
          "output_type": "execute_result",
          "data": {
            "text/plain": [
              "array([[0, 0, 0, 0],\n",
              "       [0, 0, 0, 0],\n",
              "       [0, 0, 0, 0],\n",
              "       [0, 0, 0, 0]])"
            ]
          },
          "metadata": {},
          "execution_count": 27
        }
      ]
    },
    {
      "cell_type": "code",
      "source": [
        "# ones functions"
      ],
      "metadata": {
        "id": "B-kHnlhdXh-5"
      },
      "execution_count": 28,
      "outputs": []
    },
    {
      "cell_type": "code",
      "source": [
        "np.ones(shape=(4,4) , dtype=int)\n"
      ],
      "metadata": {
        "colab": {
          "base_uri": "https://localhost:8080/"
        },
        "id": "fMfbYvdEXsoI",
        "outputId": "2c20f855-d2d8-4fd2-a938-467339dfb986"
      },
      "execution_count": 29,
      "outputs": [
        {
          "output_type": "execute_result",
          "data": {
            "text/plain": [
              "array([[1, 1, 1, 1],\n",
              "       [1, 1, 1, 1],\n",
              "       [1, 1, 1, 1],\n",
              "       [1, 1, 1, 1]])"
            ]
          },
          "metadata": {},
          "execution_count": 29
        }
      ]
    },
    {
      "cell_type": "code",
      "source": [
        "# Eye Function"
      ],
      "metadata": {
        "id": "eQaX896rXue4"
      },
      "execution_count": 30,
      "outputs": []
    },
    {
      "cell_type": "code",
      "source": [
        "np.eye(4, dtype=int )"
      ],
      "metadata": {
        "colab": {
          "base_uri": "https://localhost:8080/"
        },
        "id": "44hB6NTxXx97",
        "outputId": "d279a5f6-4d3d-4f4c-9705-659a15502af5"
      },
      "execution_count": 31,
      "outputs": [
        {
          "output_type": "execute_result",
          "data": {
            "text/plain": [
              "array([[1, 0, 0, 0],\n",
              "       [0, 1, 0, 0],\n",
              "       [0, 0, 1, 0],\n",
              "       [0, 0, 0, 1]])"
            ]
          },
          "metadata": {},
          "execution_count": 31
        }
      ]
    },
    {
      "cell_type": "code",
      "source": [
        "# Empty function same like zeros"
      ],
      "metadata": {
        "id": "wAprben9YVHe"
      },
      "execution_count": 32,
      "outputs": []
    },
    {
      "cell_type": "code",
      "source": [
        "# Random functions"
      ],
      "metadata": {
        "id": "q4Fd4fwSYXqw"
      },
      "execution_count": 33,
      "outputs": []
    },
    {
      "cell_type": "code",
      "source": [
        "np.random.rand(3,4)"
      ],
      "metadata": {
        "colab": {
          "base_uri": "https://localhost:8080/"
        },
        "id": "VY3tZdXPjH2V",
        "outputId": "33292c53-a84d-45b2-f69a-791d81c3e21d"
      },
      "execution_count": 34,
      "outputs": [
        {
          "output_type": "execute_result",
          "data": {
            "text/plain": [
              "array([[0.3758113 , 0.81034545, 0.85088127, 0.96794846],\n",
              "       [0.52685674, 0.22664113, 0.23214155, 0.42830195],\n",
              "       [0.06851264, 0.44112143, 0.17307528, 0.7433152 ]])"
            ]
          },
          "metadata": {},
          "execution_count": 34
        }
      ]
    },
    {
      "cell_type": "code",
      "source": [
        "np.random.randint(low=1 , high=10, size=10) # high exclusive"
      ],
      "metadata": {
        "colab": {
          "base_uri": "https://localhost:8080/"
        },
        "id": "QaSBaphljU-Y",
        "outputId": "02365c84-bc9c-4b24-9b93-96d1f2b885c8"
      },
      "execution_count": 35,
      "outputs": [
        {
          "output_type": "execute_result",
          "data": {
            "text/plain": [
              "array([7, 7, 7, 9, 9, 3, 1, 7, 6, 7])"
            ]
          },
          "metadata": {},
          "execution_count": 35
        }
      ]
    },
    {
      "cell_type": "code",
      "source": [
        "np.random.randn(100)"
      ],
      "metadata": {
        "colab": {
          "base_uri": "https://localhost:8080/"
        },
        "id": "KFZ8iVtJjgQZ",
        "outputId": "2485cdc2-0f0d-4455-bd97-2fc574cca161"
      },
      "execution_count": 36,
      "outputs": [
        {
          "output_type": "execute_result",
          "data": {
            "text/plain": [
              "array([ 0.2547621 , -2.07070534,  0.79477081, -0.98919725, -0.91077909,\n",
              "        1.16784194, -0.48423313,  0.60428777, -0.43955892,  0.7422631 ,\n",
              "       -1.06915697,  1.42180025,  2.01349299, -0.74479903, -0.69808859,\n",
              "        1.8850343 ,  0.29240527,  1.4489039 , -0.14470041,  0.37425785,\n",
              "       -0.0704689 , -0.85348303,  0.17965025, -0.22678698, -0.17585214,\n",
              "       -0.93844648, -0.95097314, -2.19362896, -0.07421802, -0.22046805,\n",
              "        0.16481842,  1.31198751,  1.1017811 ,  2.41676463, -0.38499819,\n",
              "       -0.86290789, -0.16266137, -0.5467324 , -0.65338893,  1.824557  ,\n",
              "       -0.21105583, -0.5717427 , -0.213833  ,  0.93032675, -0.13038829,\n",
              "        0.34545928,  0.06293805,  0.83924066, -0.35114352,  0.51683859,\n",
              "       -0.62881302, -0.99585626,  1.84687285,  1.44852096,  0.18385811,\n",
              "        1.17316291, -1.21025692, -1.34604113,  0.52208589, -0.73212477,\n",
              "        0.52778625, -0.20268154,  1.16236569, -1.56592006, -0.49398402,\n",
              "        0.74038105,  0.53343981,  0.29402201,  0.72820309, -0.79597452,\n",
              "       -0.780811  , -0.62692055, -0.73349041, -0.16990968, -0.45798731,\n",
              "        1.36958648, -1.16408638, -1.77190938,  1.19195417, -0.70039183,\n",
              "        0.02373776, -1.31262283,  0.14024941, -1.28873461,  1.57880499,\n",
              "       -1.31079998, -1.26729802, -0.85530377,  0.61182118, -0.92332282,\n",
              "       -0.7606048 , -0.15952025, -0.2769519 ,  0.04947264,  0.37352069,\n",
              "       -0.6532124 , -0.63719672,  0.4157041 , -0.40900941, -0.66185751])"
            ]
          },
          "metadata": {},
          "execution_count": 36
        }
      ]
    },
    {
      "cell_type": "code",
      "source": [
        "import matplotlib.pyplot as plt"
      ],
      "metadata": {
        "id": "TBRTTxS2jtXa"
      },
      "execution_count": 37,
      "outputs": []
    },
    {
      "cell_type": "code",
      "source": [
        "\n",
        "plt.hist(np.random.randn(1000000), bins=100)\n"
      ],
      "metadata": {
        "colab": {
          "base_uri": "https://localhost:8080/",
          "height": 1000
        },
        "id": "lyxOfCN9oiJt",
        "outputId": "617cd9ec-6fe5-4972-9a5c-a9840dd58a22"
      },
      "execution_count": 38,
      "outputs": [
        {
          "output_type": "execute_result",
          "data": {
            "text/plain": [
              "(array([1.0000e+00, 1.0000e+00, 1.0000e+00, 1.0000e+00, 1.0000e+00,\n",
              "        4.0000e+00, 6.0000e+00, 1.1000e+01, 1.3000e+01, 1.6000e+01,\n",
              "        2.4000e+01, 5.0000e+01, 6.0000e+01, 9.8000e+01, 1.2800e+02,\n",
              "        1.4600e+02, 2.1800e+02, 2.8400e+02, 3.9100e+02, 5.2600e+02,\n",
              "        6.6900e+02, 8.2400e+02, 1.0690e+03, 1.4420e+03, 1.8410e+03,\n",
              "        2.2160e+03, 2.8100e+03, 3.5590e+03, 4.2250e+03, 5.0270e+03,\n",
              "        6.1950e+03, 7.4330e+03, 8.5860e+03, 9.9210e+03, 1.1433e+04,\n",
              "        1.3133e+04, 1.5209e+04, 1.7126e+04, 1.9106e+04, 2.0898e+04,\n",
              "        2.3169e+04, 2.5358e+04, 2.7335e+04, 2.9240e+04, 3.1227e+04,\n",
              "        3.2987e+04, 3.4163e+04, 3.5192e+04, 3.6472e+04, 3.6879e+04,\n",
              "        3.6768e+04, 3.7550e+04, 3.6613e+04, 3.6018e+04, 3.5144e+04,\n",
              "        3.3754e+04, 3.2678e+04, 3.0820e+04, 2.9128e+04, 2.7024e+04,\n",
              "        2.4722e+04, 2.2867e+04, 2.0921e+04, 1.8613e+04, 1.6531e+04,\n",
              "        1.4895e+04, 1.2930e+04, 1.1163e+04, 9.7100e+03, 8.3050e+03,\n",
              "        6.9840e+03, 5.7700e+03, 4.7900e+03, 3.9430e+03, 3.2270e+03,\n",
              "        2.7540e+03, 2.2210e+03, 1.7020e+03, 1.3250e+03, 1.0790e+03,\n",
              "        8.5700e+02, 6.3200e+02, 5.0300e+02, 3.3500e+02, 2.7000e+02,\n",
              "        2.2000e+02, 1.4700e+02, 9.5000e+01, 6.8000e+01, 5.7000e+01,\n",
              "        4.4000e+01, 2.9000e+01, 2.3000e+01, 1.8000e+01, 9.0000e+00,\n",
              "        4.0000e+00, 6.0000e+00, 5.0000e+00, 4.0000e+00, 1.0000e+00]),\n",
              " array([-4.7500247 , -4.65670438, -4.56338405, -4.47006373, -4.37674341,\n",
              "        -4.28342308, -4.19010276, -4.09678244, -4.00346211, -3.91014179,\n",
              "        -3.81682147, -3.72350114, -3.63018082, -3.5368605 , -3.44354017,\n",
              "        -3.35021985, -3.25689953, -3.1635792 , -3.07025888, -2.97693856,\n",
              "        -2.88361823, -2.79029791, -2.69697759, -2.60365726, -2.51033694,\n",
              "        -2.41701662, -2.32369629, -2.23037597, -2.13705565, -2.04373532,\n",
              "        -1.950415  , -1.85709468, -1.76377435, -1.67045403, -1.57713371,\n",
              "        -1.48381338, -1.39049306, -1.29717274, -1.20385241, -1.11053209,\n",
              "        -1.01721177, -0.92389145, -0.83057112, -0.7372508 , -0.64393048,\n",
              "        -0.55061015, -0.45728983, -0.36396951, -0.27064918, -0.17732886,\n",
              "        -0.08400854,  0.00931179,  0.10263211,  0.19595243,  0.28927276,\n",
              "         0.38259308,  0.4759134 ,  0.56923373,  0.66255405,  0.75587437,\n",
              "         0.8491947 ,  0.94251502,  1.03583534,  1.12915567,  1.22247599,\n",
              "         1.31579631,  1.40911664,  1.50243696,  1.59575728,  1.68907761,\n",
              "         1.78239793,  1.87571825,  1.96903858,  2.0623589 ,  2.15567922,\n",
              "         2.24899955,  2.34231987,  2.43564019,  2.52896052,  2.62228084,\n",
              "         2.71560116,  2.80892149,  2.90224181,  2.99556213,  3.08888246,\n",
              "         3.18220278,  3.2755231 ,  3.36884343,  3.46216375,  3.55548407,\n",
              "         3.6488044 ,  3.74212472,  3.83544504,  3.92876537,  4.02208569,\n",
              "         4.11540601,  4.20872634,  4.30204666,  4.39536698,  4.4886873 ,\n",
              "         4.58200763]),\n",
              " <BarContainer object of 100 artists>)"
            ]
          },
          "metadata": {},
          "execution_count": 38
        },
        {
          "output_type": "display_data",
          "data": {
            "text/plain": [
              "<Figure size 640x480 with 1 Axes>"
            ],
            "image/png": "[encoded data removed]"
          },
          "metadata": {}
        }
      ]
    },
    {
      "cell_type": "code",
      "source": [
        "# Reshape Function - will not alter original data"
      ],
      "metadata": {
        "id": "TnprmI7TpdeN"
      },
      "execution_count": 39,
      "outputs": []
    },
    {
      "cell_type": "code",
      "source": [
        "arr=np.random.randint(1,15, (3,4) )"
      ],
      "metadata": {
        "id": "DC_h3yc2puJT"
      },
      "execution_count": 41,
      "outputs": []
    },
    {
      "cell_type": "code",
      "source": [
        "arr"
      ],
      "metadata": {
        "colab": {
          "base_uri": "https://localhost:8080/"
        },
        "id": "kmCc0GorqFpb",
        "outputId": "644205fd-6fd2-45f3-a5d0-280c02ffa886"
      },
      "execution_count": 42,
      "outputs": [
        {
          "output_type": "execute_result",
          "data": {
            "text/plain": [
              "array([[ 4, 13, 10,  4],\n",
              "       [ 9, 10, 12, 12],\n",
              "       [ 1, 14, 14,  5]])"
            ]
          },
          "metadata": {},
          "execution_count": 42
        }
      ]
    },
    {
      "cell_type": "code",
      "source": [
        "arr.shape"
      ],
      "metadata": {
        "colab": {
          "base_uri": "https://localhost:8080/"
        },
        "id": "rB70EPUIqKK_",
        "outputId": "36c2d4ed-0b91-40ed-debe-bc79e42d3026"
      },
      "execution_count": 43,
      "outputs": [
        {
          "output_type": "execute_result",
          "data": {
            "text/plain": [
              "(3, 4)"
            ]
          },
          "metadata": {},
          "execution_count": 43
        }
      ]
    },
    {
      "cell_type": "code",
      "source": [
        "arr=arr.reshape(4,3)"
      ],
      "metadata": {
        "id": "q2Kd50JBqNEY"
      },
      "execution_count": 44,
      "outputs": []
    },
    {
      "cell_type": "code",
      "source": [
        "arr"
      ],
      "metadata": {
        "colab": {
          "base_uri": "https://localhost:8080/"
        },
        "id": "6xCnvgVXqQ0P",
        "outputId": "3cfaa2a8-4f74-4a82-a592-ddf31e16ae4b"
      },
      "execution_count": 45,
      "outputs": [
        {
          "output_type": "execute_result",
          "data": {
            "text/plain": [
              "array([[ 4, 13, 10],\n",
              "       [ 4,  9, 10],\n",
              "       [12, 12,  1],\n",
              "       [14, 14,  5]])"
            ]
          },
          "metadata": {},
          "execution_count": 45
        }
      ]
    },
    {
      "cell_type": "code",
      "source": [],
      "metadata": {
        "id": "c6DUfhm6qR2I"
      },
      "execution_count": null,
      "outputs": []
    }
  ]
}