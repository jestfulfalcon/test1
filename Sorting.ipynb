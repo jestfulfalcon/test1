{
  "nbformat": 4,
  "nbformat_minor": 0,
  "metadata": {
    "colab": {
      "provenance": [],
      "authorship_tag": "ABX9TyNtEV+HK/KiaS8XXY2RMjkq",
      "include_colab_link": true
    },
    "kernelspec": {
      "name": "python3",
      "display_name": "Python 3"
    },
    "language_info": {
      "name": "python"
    }
  },
  "cells": [
    {
      "cell_type": "markdown",
      "metadata": {
        "id": "view-in-github",
        "colab_type": "text"
      },
      "source": [
        "<a href=\"https://colab.research.google.com/github/jestfulfalcon/test1/blob/main/Sorting.ipynb\" target=\"_parent\"><img src=\"https://colab.research.google.com/assets/colab-badge.svg\" alt=\"Open In Colab\"/></a>"
      ]
    },
    {
      "cell_type": "code",
      "execution_count": 1,
      "metadata": {
        "id": "PpsnEFEVJX89"
      },
      "outputs": [],
      "source": [
        "import numpy as np\n",
        "\n"
      ]
    },
    {
      "cell_type": "code",
      "source": [
        "arr=np.array([[7,5,6,8,9],[2,4,5,3,1,],[2,4,8,5,9]])"
      ],
      "metadata": {
        "id": "ZWhZFFTsLsx5"
      },
      "execution_count": 2,
      "outputs": []
    },
    {
      "cell_type": "code",
      "source": [
        "arr"
      ],
      "metadata": {
        "colab": {
          "base_uri": "https://localhost:8080/"
        },
        "id": "qFG6_sH5L_LR",
        "outputId": "6c1b88ab-a39a-45ef-9448-44786761312c"
      },
      "execution_count": 3,
      "outputs": [
        {
          "output_type": "execute_result",
          "data": {
            "text/plain": [
              "array([[7, 5, 6, 8, 9],\n",
              "       [2, 4, 5, 3, 1],\n",
              "       [2, 4, 8, 5, 9]])"
            ]
          },
          "metadata": {},
          "execution_count": 3
        }
      ]
    },
    {
      "cell_type": "code",
      "source": [
        "np.sort(arr , axis=1, kind = 'mergesort') # sorted row wise"
      ],
      "metadata": {
        "colab": {
          "base_uri": "https://localhost:8080/"
        },
        "id": "cvOb9LYEMBUI",
        "outputId": "9a17f676-ea30-4893-8aa3-3bfb1095d64b"
      },
      "execution_count": 5,
      "outputs": [
        {
          "output_type": "execute_result",
          "data": {
            "text/plain": [
              "array([[5, 6, 7, 8, 9],\n",
              "       [1, 2, 3, 4, 5],\n",
              "       [2, 4, 5, 8, 9]])"
            ]
          },
          "metadata": {},
          "execution_count": 5
        }
      ]
    },
    {
      "cell_type": "code",
      "source": [
        "np.sort(arr , axis=0, kind = 'mergesort') # sorted row wise"
      ],
      "metadata": {
        "colab": {
          "base_uri": "https://localhost:8080/"
        },
        "id": "7FLXWaf6Mubt",
        "outputId": "672d9daa-f278-4c24-b878-e0e29cf8af28"
      },
      "execution_count": 6,
      "outputs": [
        {
          "output_type": "execute_result",
          "data": {
            "text/plain": [
              "array([[2, 4, 5, 3, 1],\n",
              "       [2, 4, 6, 5, 9],\n",
              "       [7, 5, 8, 8, 9]])"
            ]
          },
          "metadata": {},
          "execution_count": 6
        }
      ]
    },
    {
      "cell_type": "code",
      "source": [
        "np.sort(arr , axis=1, kind = 'quicksort')"
      ],
      "metadata": {
        "colab": {
          "base_uri": "https://localhost:8080/"
        },
        "id": "jgrtVfOINBt_",
        "outputId": "43103ec7-8ca2-4cbf-dd1c-8efa0d6d4bc6"
      },
      "execution_count": 7,
      "outputs": [
        {
          "output_type": "execute_result",
          "data": {
            "text/plain": [
              "array([[5, 6, 7, 8, 9],\n",
              "       [1, 2, 3, 4, 5],\n",
              "       [2, 4, 5, 8, 9]])"
            ]
          },
          "metadata": {},
          "execution_count": 7
        }
      ]
    },
    {
      "cell_type": "code",
      "source": [],
      "metadata": {
        "id": "otr5gzunNOSs"
      },
      "execution_count": null,
      "outputs": []
    }
  ]
}